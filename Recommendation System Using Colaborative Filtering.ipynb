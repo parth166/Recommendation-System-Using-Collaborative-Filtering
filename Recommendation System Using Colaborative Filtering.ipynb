{
 "cells": [
  {
   "cell_type": "code",
   "execution_count": 526,
   "id": "a1d4a60b",
   "metadata": {},
   "outputs": [],
   "source": [
    "import scipy.io\n",
    "import pandas as pd\n",
    "import numpy as np\n",
    "from scipy.optimize import minimize"
   ]
  },
  {
   "cell_type": "code",
   "execution_count": 546,
   "id": "97a16705",
   "metadata": {},
   "outputs": [],
   "source": [
    "def cofiCostFunc(param, Y, R, num_users, num_movies, num_features, lambda_):    \n",
    "    X = np.reshape(param[0:(num_movies*num_features)], (num_movies, num_features));\n",
    "    Theta = np.reshape(param[(num_movies*num_features):], (num_users, num_features));\n",
    "    J = (sum(sum(((X@(Theta.T) - Y)*R)**2))/2) + ((lambda_/2) * (sum(sum(Theta**2)) + sum(sum(X**2))));\n",
    "    \n",
    "    X_grad = np.zeros((X.shape));\n",
    "    Theta_grad = np.zeros((Theta.shape));\n",
    "    \n",
    "    for i in range(num_movies):\n",
    "        indexes = np.where(R[i,:] == 1)[0];\n",
    "        if (len(indexes) > 0):\n",
    "            theta_temp = Theta[indexes, :];\n",
    "            Y_temp = Y[i, indexes];\n",
    "            X_grad[i, :] = (((X[i, :] @ theta_temp.T) - Y_temp) @ theta_temp) + (lambda_ * X[i, :]);\n",
    "    \n",
    "    for j in range(num_users):\n",
    "        indexes = np.where(R[:, j] == 1)[0];\n",
    "        if (len(indexes) > 0):\n",
    "            X_temp = X[indexes, :];\n",
    "            Y_temp = Y[indexes, j];\n",
    "            Theta_grad[j, :] = (((X_temp @ Theta[j, :].T) - Y_temp).reshape(-1,1).T @ X_temp) + (lambda_ * Theta[j, :]);\n",
    "    \n",
    "    grad = np.concatenate((X_grad.flatten('F'), Theta_grad.flatten('F')));\n",
    "    \n",
    "    return J, grad;\n"
   ]
  },
  {
   "cell_type": "code",
   "execution_count": 547,
   "id": "76b85cd8",
   "metadata": {},
   "outputs": [],
   "source": [
    "def normalizeRatings(Y, R):    \n",
    "    m, n = Y.shape;\n",
    "    \n",
    "    Y_mean = np.zeros((m, 1));\n",
    "    Y_norm = np.zeros((Y.shape));\n",
    "    \n",
    "    for i in range(m):\n",
    "        indexes = np.where(R[i,:] == 1)[0];\n",
    "        Y_mean[i] = np.mean(Y[i, indexes]);\n",
    "        Y_norm[i, indexes] = Y[i, indexes] - Y_mean[i];\n",
    "        \n",
    "    return Y_norm, Y_mean;"
   ]
  },
  {
   "cell_type": "code",
   "execution_count": 548,
   "id": "70ea18c7",
   "metadata": {},
   "outputs": [],
   "source": [
    "mat_data = scipy.io.loadmat('ex8_movies.mat');\n",
    "\n",
    "Y = np.array(pd.DataFrame(mat_data['Y']));\n",
    "R = np.array(pd.DataFrame(mat_data['R']));\n",
    "\n",
    "mat_param = scipy.io.loadmat('ex8_movieParams.mat');\n",
    "\n",
    "X = np.array(pd.DataFrame(mat_param['X']));\n",
    "Theta = np.array(pd.DataFrame(mat_param['Theta']));\n",
    "\n",
    "num_users = int(mat_param['num_users']);\n",
    "num_movies = int(mat_param['num_movies']);\n",
    "num_features = int(mat_param['num_features']);"
   ]
  },
  {
   "cell_type": "code",
   "execution_count": 549,
   "id": "0cec7e2f",
   "metadata": {},
   "outputs": [
    {
     "name": "stdout",
     "output_type": "stream",
     "text": [
      "22.22460372568567\n"
     ]
    }
   ],
   "source": [
    "# manual test cost function\n",
    "num_f = 3;\n",
    "num_m = 5;\n",
    "num_u = 4;\n",
    "\n",
    "X_test = X[0:num_m, 0:num_f];\n",
    "Theta_test = Theta[0:num_u, 0:num_f];\n",
    "\n",
    "Y_test = Y[0:num_m, 0:num_u];\n",
    "R_test = R[0:num_m, 0:num_u];\n",
    "\n",
    "np.warnings.filterwarnings('ignore', category=np.VisibleDeprecationWarning)\n",
    "param_vec = np.concatenate((X_test.flatten(), Theta_test.flatten())).reshape(-1,1);\n",
    "\n",
    "# With regularisation parameter = 0\n",
    "J, grad = cofiCostFunc(param_vec, Y_test, R_test, num_u, num_m, num_f, 0);\n",
    "\n",
    "print(J)"
   ]
  },
  {
   "cell_type": "markdown",
   "id": "33f11144",
   "metadata": {},
   "source": [
    "(this value should be about 22.22)"
   ]
  },
  {
   "cell_type": "code",
   "execution_count": 550,
   "id": "6d42183e",
   "metadata": {
    "scrolled": false
   },
   "outputs": [
    {
     "name": "stdout",
     "output_type": "stream",
     "text": [
      "[ -2.52899165  -0.56819597  -0.83240713  -0.38358278  -0.80378006\n",
      "   7.57570308   3.35265031   4.91163297   2.26333698   4.74271842\n",
      "  -1.89979026  -0.52339845  -0.76677878  -0.35334048  -0.74040871\n",
      " -10.5680202   -3.05099006   0.           0.           4.62776019\n",
      "   1.16441367   0.           0.          -7.16004443  -3.47410789\n",
      "   0.           0.        ]\n"
     ]
    }
   ],
   "source": [
    "print(grad)"
   ]
  },
  {
   "cell_type": "markdown",
   "id": "48432c87",
   "metadata": {},
   "source": [
    "Expected Value: [-2.5290\n",
    "   -0.5682\n",
    "   -0.8324\n",
    "   -0.3836\n",
    "   -0.8038\n",
    "    7.5757\n",
    "    3.3527\n",
    "    4.9116\n",
    "    2.2633\n",
    "    4.7427\n",
    "   -1.8998\n",
    "   -0.5234\n",
    "   -0.7668\n",
    "   -0.3533\n",
    "   -0.7404\n",
    "  -10.5680\n",
    "   -3.0510\n",
    "         0\n",
    "         0\n",
    "    4.6278\n",
    "    1.1644\n",
    "         0\n",
    "         0\n",
    "   -7.1600\n",
    "   -3.4741\n",
    "         0\n",
    "         0]"
   ]
  },
  {
   "cell_type": "code",
   "execution_count": 551,
   "id": "4cb2433e",
   "metadata": {},
   "outputs": [
    {
     "name": "stdout",
     "output_type": "stream",
     "text": [
      "31.344056244274213\n"
     ]
    }
   ],
   "source": [
    "# With regularisation parameter = 1.5\n",
    "J, grad = cofiCostFunc(param_vec, Y_test, R_test, num_u, num_m, num_f, 1.5);\n",
    "\n",
    "print(J)"
   ]
  },
  {
   "cell_type": "markdown",
   "id": "97ee35ad",
   "metadata": {},
   "source": [
    "(this value should be about 31.34)"
   ]
  },
  {
   "cell_type": "code",
   "execution_count": 557,
   "id": "5d69076f",
   "metadata": {},
   "outputs": [
    {
     "name": "stdout",
     "output_type": "stream",
     "text": [
      "[[-0.37019531 -1.07088403  0.13738192 ...  1.10142645 -1.32763038\n",
      "   0.0826835 ]\n",
      " [ 0.36930243  0.10185128 -0.136252   ... -0.08150032  1.38042063\n",
      "  -0.4219028 ]\n",
      " [ 0.27548158 -0.31067409 -1.4922189  ... -0.78412407  1.42928406\n",
      "   0.85088489]\n",
      " ...\n",
      " [-0.84949038  0.78403124 -0.18432336 ...  1.61398286  1.36338924\n",
      "   0.32177806]\n",
      " [ 0.10342561  1.80015483 -1.25445081 ...  0.29984012 -0.03332759\n",
      "  -0.24713014]\n",
      " [ 0.5918988  -0.38999149 -1.09204119 ...  1.87287832 -0.69424057\n",
      "  -0.34875914]]\n",
      "[[ 1.23935066  1.54477282 -0.52177669 ...  0.10231996 -0.92709367\n",
      "   0.594863  ]\n",
      " [-1.71110986 -1.32963354 -0.78649517 ...  1.54724999  0.6560323\n",
      "   0.70369735]\n",
      " [ 0.25001086 -0.26092745 -0.018085   ... -1.0089822  -0.96971716\n",
      "  -0.58969276]\n",
      " ...\n",
      " [-1.0507446  -1.13712594  1.91265636 ...  1.48163988 -0.24286889\n",
      "   0.98988386]\n",
      " [ 0.32761376 -1.53603193  0.69901903 ...  1.21555976  0.87109516\n",
      "   1.03236019]\n",
      " [ 1.82978881 -1.17746676 -0.07213889 ...  0.05993706 -0.0039902\n",
      "   0.36991598]]\n",
      "[[-0.37019531]\n",
      " [-1.07088403]\n",
      " [ 0.13738192]\n",
      " ...\n",
      " [ 0.05993706]\n",
      " [-0.0039902 ]\n",
      " [ 0.36991598]]\n"
     ]
    }
   ],
   "source": [
    "# Colaborative filtering\n",
    "my_ratings = np.zeros((1682, 1));\n",
    "\n",
    "my_ratings[1] = 4;\n",
    "my_ratings[98] = 2;\n",
    "my_ratings[7] = 3;\n",
    "my_ratings[12]= 5;\n",
    "my_ratings[54] = 4;\n",
    "my_ratings[64]= 5;\n",
    "my_ratings[66]= 3;\n",
    "my_ratings[69] = 5;\n",
    "my_ratings[183] = 4;\n",
    "my_ratings[226] = 5;\n",
    "my_ratings[355]= 5;\n",
    "\n",
    "Y_new = np.hstack((my_ratings, Y));\n",
    "R_new = np.hstack((np.where(my_ratings != 0, 1, 0), R));\n",
    "\n",
    "Ynorm, Ymean = normalizeRatings(Y_new, R_new);\n",
    "\n",
    "num_users_new = Y_new.shape[1];\n",
    "\n",
    "# Set initial Parameters.\n",
    "X = np.random.randn(num_movies, num_features);\n",
    "Theta = np.random.randn(num_users_new, num_features);\n",
    "\n",
    "print(X);\n",
    "print(Theta);\n",
    "\n",
    "initial_params = np.concatenate((X.flatten(), Theta.flatten())).reshape(-1,1);\n",
    "\n",
    "print(initial_params);"
   ]
  },
  {
   "cell_type": "code",
   "execution_count": 559,
   "id": "c5f2722b",
   "metadata": {},
   "outputs": [
    {
     "name": "stdout",
     "output_type": "stream",
     "text": [
      "664484.597776093\n"
     ]
    }
   ],
   "source": [
    "lambda_ = 10;\n",
    "\n",
    "options= {'maxiter': 100}\n",
    "\n",
    "res = minimize(cofiCostFunc, \n",
    "               initial_params, \n",
    "               args = (Ynorm, R_new, num_users_new, num_movies, num_features, lambda_), \n",
    "               jac=True,\n",
    "               method='CG',\n",
    "               options=options);\n",
    "\n",
    "print(res.fun)"
   ]
  },
  {
   "cell_type": "code",
   "execution_count": null,
   "id": "defc29bc",
   "metadata": {},
   "outputs": [],
   "source": []
  }
 ],
 "metadata": {
  "kernelspec": {
   "display_name": "Python 3 (ipykernel)",
   "language": "python",
   "name": "python3"
  },
  "language_info": {
   "codemirror_mode": {
    "name": "ipython",
    "version": 3
   },
   "file_extension": ".py",
   "mimetype": "text/x-python",
   "name": "python",
   "nbconvert_exporter": "python",
   "pygments_lexer": "ipython3",
   "version": "3.9.7"
  }
 },
 "nbformat": 4,
 "nbformat_minor": 5
}
